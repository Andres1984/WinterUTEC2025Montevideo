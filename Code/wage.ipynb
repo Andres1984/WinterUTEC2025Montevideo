{
 "cells": [
  {
   "cell_type": "code",
   "execution_count": null,
   "id": "dc943371",
   "metadata": {},
   "outputs": [],
   "source": [
    "# Importar librerías necesarias\n",
    "import numpy as np\n",
    "import pandas as pd\n",
    "from sklearn.preprocessing import RobustScaler\n",
    "from sklearn.model_selection import train_test_split\n",
    "import matplotlib.pyplot as plt\n",
    "import plotly.graph_objects as go\n",
    "\n",
    "# 🔹 Cargar datos desde CSV\n",
    "df = pd.read_csv(\"wage.csv\")\n",
    "\n",
    "# 🔹 Crear variables adicionales\n",
    "df[\"expersq\"] = df[\"exper\"] ** 2  # Experiencia al cuadrado\n",
    "df[\"exper_female\"] = df[\"exper\"] * df[\"female\"]  # Interacción experiencia * mujer\n",
    "\n",
    "# 🔹 Definir variables predictoras y objetivo\n",
    "X = df[[\"educ\", \"exper\", \"tenure\", \"female\", \"expersq\", \"exper_female\"]].values\n",
    "y = df[\"lwage\"].values\n"
   ]
  }
 ],
 "metadata": {
  "language_info": {
   "name": "python"
  }
 },
 "nbformat": 4,
 "nbformat_minor": 5
}
