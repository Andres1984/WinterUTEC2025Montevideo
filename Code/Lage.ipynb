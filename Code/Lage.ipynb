# Importar librerías necesarias
import numpy as np
import pandas as pd
from sklearn.preprocessing import RobustScaler
import matplotlib.pyplot as plt
import plotly.graph_objects as go

# 🔹 Cargar datos desde CSV
df = pd.read_csv("wage.csv")

# 🔹 Crear variables adicionales
df["expersq"] = df["exper"] ** 2  # Experiencia al cuadrado
df["exper_female"] = df["exper"] * df["female"]  # Interacción experiencia * mujer

# 🔹 Definir variables predictoras y objetivo
X = df[["educ", "exper", "tenure", "female", "expersq", "exper_female"]].values
y = df["lwage"].values
